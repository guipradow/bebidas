{
 "cells": [
  {
   "cell_type": "markdown",
   "metadata": {},
   "source": [
    "# Implementação de Multi Layer Perceptron para Classificação"
   ]
  },
  {
   "cell_type": "markdown",
   "metadata": {},
   "source": [
    "## Bibliotecas"
   ]
  },
  {
   "cell_type": "code",
   "execution_count": 1,
   "metadata": {},
   "outputs": [],
   "source": [
    "import pandas as pd\n",
    "import numpy as np\n",
    "from sklearn.neural_network import MLPClassifier\n",
    "from sklearn.model_selection import GridSearchCV\n",
    "from sklearn.metrics import accuracy_score, mean_squared_error\n",
    "import matplotlib.pyplot as plt\n",
    "import seaborn as sns"
   ]
  },
  {
   "cell_type": "markdown",
   "metadata": {},
   "source": [
    "## Carregamento dos dados"
   ]
  },
  {
   "cell_type": "code",
   "execution_count": 2,
   "metadata": {},
   "outputs": [
    {
     "data": {
      "text/html": [
       "<div>\n",
       "<style scoped>\n",
       "    .dataframe tbody tr th:only-of-type {\n",
       "        vertical-align: middle;\n",
       "    }\n",
       "\n",
       "    .dataframe tbody tr th {\n",
       "        vertical-align: top;\n",
       "    }\n",
       "\n",
       "    .dataframe thead th {\n",
       "        text-align: right;\n",
       "    }\n",
       "</style>\n",
       "<table border=\"1\" class=\"dataframe\">\n",
       "  <thead>\n",
       "    <tr style=\"text-align: right;\">\n",
       "      <th></th>\n",
       "      <th>x1</th>\n",
       "      <th>x2</th>\n",
       "      <th>x3</th>\n",
       "      <th>x4</th>\n",
       "      <th>d1</th>\n",
       "      <th>d2</th>\n",
       "      <th>d3</th>\n",
       "    </tr>\n",
       "  </thead>\n",
       "  <tbody>\n",
       "    <tr>\n",
       "      <th>0</th>\n",
       "      <td>0.3841</td>\n",
       "      <td>0.2021</td>\n",
       "      <td>0.0000</td>\n",
       "      <td>0.2438</td>\n",
       "      <td>1</td>\n",
       "      <td>0</td>\n",
       "      <td>0</td>\n",
       "    </tr>\n",
       "    <tr>\n",
       "      <th>1</th>\n",
       "      <td>0.1765</td>\n",
       "      <td>0.1613</td>\n",
       "      <td>0.3401</td>\n",
       "      <td>0.0843</td>\n",
       "      <td>1</td>\n",
       "      <td>0</td>\n",
       "      <td>0</td>\n",
       "    </tr>\n",
       "    <tr>\n",
       "      <th>2</th>\n",
       "      <td>0.3170</td>\n",
       "      <td>0.5786</td>\n",
       "      <td>0.3387</td>\n",
       "      <td>0.4192</td>\n",
       "      <td>0</td>\n",
       "      <td>1</td>\n",
       "      <td>0</td>\n",
       "    </tr>\n",
       "    <tr>\n",
       "      <th>3</th>\n",
       "      <td>0.2467</td>\n",
       "      <td>0.0337</td>\n",
       "      <td>0.2699</td>\n",
       "      <td>0.3454</td>\n",
       "      <td>1</td>\n",
       "      <td>0</td>\n",
       "      <td>0</td>\n",
       "    </tr>\n",
       "    <tr>\n",
       "      <th>4</th>\n",
       "      <td>0.6102</td>\n",
       "      <td>0.8192</td>\n",
       "      <td>0.4679</td>\n",
       "      <td>0.4762</td>\n",
       "      <td>0</td>\n",
       "      <td>1</td>\n",
       "      <td>0</td>\n",
       "    </tr>\n",
       "  </tbody>\n",
       "</table>\n",
       "</div>"
      ],
      "text/plain": [
       "       x1      x2      x3      x4  d1  d2  d3\n",
       "0  0.3841  0.2021  0.0000  0.2438   1   0   0\n",
       "1  0.1765  0.1613  0.3401  0.0843   1   0   0\n",
       "2  0.3170  0.5786  0.3387  0.4192   0   1   0\n",
       "3  0.2467  0.0337  0.2699  0.3454   1   0   0\n",
       "4  0.6102  0.8192  0.4679  0.4762   0   1   0"
      ]
     },
     "metadata": {},
     "output_type": "display_data"
    },
    {
     "data": {
      "text/html": [
       "<div>\n",
       "<style scoped>\n",
       "    .dataframe tbody tr th:only-of-type {\n",
       "        vertical-align: middle;\n",
       "    }\n",
       "\n",
       "    .dataframe tbody tr th {\n",
       "        vertical-align: top;\n",
       "    }\n",
       "\n",
       "    .dataframe thead th {\n",
       "        text-align: right;\n",
       "    }\n",
       "</style>\n",
       "<table border=\"1\" class=\"dataframe\">\n",
       "  <thead>\n",
       "    <tr style=\"text-align: right;\">\n",
       "      <th></th>\n",
       "      <th>x1</th>\n",
       "      <th>x2</th>\n",
       "      <th>x3</th>\n",
       "      <th>x4</th>\n",
       "      <th>d1</th>\n",
       "      <th>d2</th>\n",
       "      <th>d3</th>\n",
       "    </tr>\n",
       "  </thead>\n",
       "  <tbody>\n",
       "    <tr>\n",
       "      <th>0</th>\n",
       "      <td>0.8622</td>\n",
       "      <td>0.7101</td>\n",
       "      <td>0.6236</td>\n",
       "      <td>0.7894</td>\n",
       "      <td>0</td>\n",
       "      <td>0</td>\n",
       "      <td>1</td>\n",
       "    </tr>\n",
       "    <tr>\n",
       "      <th>1</th>\n",
       "      <td>0.2741</td>\n",
       "      <td>0.1552</td>\n",
       "      <td>0.1333</td>\n",
       "      <td>0.1516</td>\n",
       "      <td>1</td>\n",
       "      <td>0</td>\n",
       "      <td>0</td>\n",
       "    </tr>\n",
       "    <tr>\n",
       "      <th>2</th>\n",
       "      <td>0.6772</td>\n",
       "      <td>0.8516</td>\n",
       "      <td>0.6543</td>\n",
       "      <td>0.7573</td>\n",
       "      <td>0</td>\n",
       "      <td>0</td>\n",
       "      <td>1</td>\n",
       "    </tr>\n",
       "    <tr>\n",
       "      <th>3</th>\n",
       "      <td>0.2178</td>\n",
       "      <td>0.5039</td>\n",
       "      <td>0.6415</td>\n",
       "      <td>0.5039</td>\n",
       "      <td>0</td>\n",
       "      <td>1</td>\n",
       "      <td>0</td>\n",
       "    </tr>\n",
       "    <tr>\n",
       "      <th>4</th>\n",
       "      <td>0.7260</td>\n",
       "      <td>0.7500</td>\n",
       "      <td>0.7007</td>\n",
       "      <td>0.4953</td>\n",
       "      <td>0</td>\n",
       "      <td>0</td>\n",
       "      <td>1</td>\n",
       "    </tr>\n",
       "  </tbody>\n",
       "</table>\n",
       "</div>"
      ],
      "text/plain": [
       "       x1      x2      x3      x4  d1  d2  d3\n",
       "0  0.8622  0.7101  0.6236  0.7894   0   0   1\n",
       "1  0.2741  0.1552  0.1333  0.1516   1   0   0\n",
       "2  0.6772  0.8516  0.6543  0.7573   0   0   1\n",
       "3  0.2178  0.5039  0.6415  0.5039   0   1   0\n",
       "4  0.7260  0.7500  0.7007  0.4953   0   0   1"
      ]
     },
     "metadata": {},
     "output_type": "display_data"
    }
   ],
   "source": [
    "df_train = pd.read_csv('../data/bebidas.csv')\n",
    "df_test = pd.read_csv('../data/bebidasTestes.csv')\n",
    "display(df_train.head())\n",
    "display(df_test.head())"
   ]
  },
  {
   "cell_type": "code",
   "execution_count": 3,
   "metadata": {},
   "outputs": [
    {
     "name": "stdout",
     "output_type": "stream",
     "text": [
      "<class 'pandas.core.frame.DataFrame'>\n",
      "RangeIndex: 130 entries, 0 to 129\n",
      "Data columns (total 7 columns):\n",
      " #   Column  Non-Null Count  Dtype  \n",
      "---  ------  --------------  -----  \n",
      " 0   x1      130 non-null    float64\n",
      " 1   x2      130 non-null    float64\n",
      " 2   x3      130 non-null    float64\n",
      " 3   x4      130 non-null    float64\n",
      " 4   d1      130 non-null    int64  \n",
      " 5   d2      130 non-null    int64  \n",
      " 6   d3      130 non-null    int64  \n",
      "dtypes: float64(4), int64(3)\n",
      "memory usage: 7.2 KB\n"
     ]
    },
    {
     "data": {
      "text/plain": [
       "None"
      ]
     },
     "metadata": {},
     "output_type": "display_data"
    },
    {
     "name": "stdout",
     "output_type": "stream",
     "text": [
      "<class 'pandas.core.frame.DataFrame'>\n",
      "RangeIndex: 18 entries, 0 to 17\n",
      "Data columns (total 7 columns):\n",
      " #   Column  Non-Null Count  Dtype  \n",
      "---  ------  --------------  -----  \n",
      " 0   x1      18 non-null     float64\n",
      " 1   x2      18 non-null     float64\n",
      " 2   x3      18 non-null     float64\n",
      " 3   x4      18 non-null     float64\n",
      " 4   d1      18 non-null     int64  \n",
      " 5   d2      18 non-null     int64  \n",
      " 6   d3      18 non-null     int64  \n",
      "dtypes: float64(4), int64(3)\n",
      "memory usage: 1.1 KB\n"
     ]
    },
    {
     "data": {
      "text/plain": [
       "None"
      ]
     },
     "metadata": {},
     "output_type": "display_data"
    }
   ],
   "source": [
    "# Verifica informações dos DataFrames\n",
    "display(df_train.info())\n",
    "display(df_test.info())"
   ]
  },
  {
   "cell_type": "markdown",
   "metadata": {},
   "source": [
    "## Manipulação dos dados"
   ]
  },
  {
   "cell_type": "code",
   "execution_count": 4,
   "metadata": {},
   "outputs": [],
   "source": [
    "# Dados de treino\n",
    "X_train = df_train[['x1', 'x2', 'x3', 'x4']]\n",
    "y_train = np.argmax(df_train[['d1', 'd2', 'd3']], axis=1)"
   ]
  },
  {
   "cell_type": "code",
   "execution_count": 5,
   "metadata": {},
   "outputs": [],
   "source": [
    "# Dados de teste\n",
    "X_test = df_test[['x1', 'x2', 'x3', 'x4']]\n",
    "y_test = np.argmax(df_test[['d1', 'd2', 'd3']], axis=1)"
   ]
  },
  {
   "cell_type": "markdown",
   "metadata": {},
   "source": [
    "## Modelo MLP"
   ]
  },
  {
   "cell_type": "code",
   "execution_count": 6,
   "metadata": {},
   "outputs": [],
   "source": [
    "# Declaração do modelo \n",
    "model = MLPClassifier(activation='logistic', learning_rate='constant',\n",
    "                      learning_rate_init=.001, epsilon=10e-6, max_iter=5000)"
   ]
  },
  {
   "cell_type": "code",
   "execution_count": 7,
   "metadata": {},
   "outputs": [],
   "source": [
    "# Declaração do grid de parâmetros\n",
    "param_grid = {\n",
    "    'hidden_layer_sizes': [5, 10, 15]\n",
    "}"
   ]
  },
  {
   "cell_type": "code",
   "execution_count": 8,
   "metadata": {},
   "outputs": [],
   "source": [
    "# Executa cross validation\n",
    "grid_search = GridSearchCV(model, param_grid=param_grid, cv=5,\n",
    "                           scoring='accuracy', n_jobs=-1)\n",
    "_ = grid_search.fit(X_train, y_train)"
   ]
  },
  {
   "cell_type": "code",
   "execution_count": 9,
   "metadata": {},
   "outputs": [
    {
     "data": {
      "text/html": [
       "<div>\n",
       "<style scoped>\n",
       "    .dataframe tbody tr th:only-of-type {\n",
       "        vertical-align: middle;\n",
       "    }\n",
       "\n",
       "    .dataframe tbody tr th {\n",
       "        vertical-align: top;\n",
       "    }\n",
       "\n",
       "    .dataframe thead th {\n",
       "        text-align: right;\n",
       "    }\n",
       "</style>\n",
       "<table border=\"1\" class=\"dataframe\">\n",
       "  <thead>\n",
       "    <tr style=\"text-align: right;\">\n",
       "      <th></th>\n",
       "      <th>param_hidden_layer_sizes</th>\n",
       "      <th>params</th>\n",
       "      <th>mean_test_score</th>\n",
       "      <th>std_test_score</th>\n",
       "      <th>rank_test_score</th>\n",
       "    </tr>\n",
       "  </thead>\n",
       "  <tbody>\n",
       "    <tr>\n",
       "      <th>0</th>\n",
       "      <td>5</td>\n",
       "      <td>{'hidden_layer_sizes': 5}</td>\n",
       "      <td>0.930769</td>\n",
       "      <td>0.028782</td>\n",
       "      <td>1</td>\n",
       "    </tr>\n",
       "    <tr>\n",
       "      <th>1</th>\n",
       "      <td>10</td>\n",
       "      <td>{'hidden_layer_sizes': 10}</td>\n",
       "      <td>0.930769</td>\n",
       "      <td>0.028782</td>\n",
       "      <td>1</td>\n",
       "    </tr>\n",
       "    <tr>\n",
       "      <th>2</th>\n",
       "      <td>15</td>\n",
       "      <td>{'hidden_layer_sizes': 15}</td>\n",
       "      <td>0.930769</td>\n",
       "      <td>0.028782</td>\n",
       "      <td>1</td>\n",
       "    </tr>\n",
       "  </tbody>\n",
       "</table>\n",
       "</div>"
      ],
      "text/plain": [
       "   param_hidden_layer_sizes                      params  mean_test_score  \\\n",
       "0                         5   {'hidden_layer_sizes': 5}         0.930769   \n",
       "1                        10  {'hidden_layer_sizes': 10}         0.930769   \n",
       "2                        15  {'hidden_layer_sizes': 15}         0.930769   \n",
       "\n",
       "   std_test_score  rank_test_score  \n",
       "0        0.028782                1  \n",
       "1        0.028782                1  \n",
       "2        0.028782                1  "
      ]
     },
     "execution_count": 9,
     "metadata": {},
     "output_type": "execute_result"
    }
   ],
   "source": [
    "# Mostra resultados do cross validation\n",
    "results = grid_search.cv_results_\n",
    "df_cv_results = pd.DataFrame(results).sort_values('rank_test_score')\n",
    "df_cv_results.loc[:, ~df_cv_results.columns.str.contains('split|time')]"
   ]
  },
  {
   "cell_type": "code",
   "execution_count": 10,
   "metadata": {},
   "outputs": [
    {
     "name": "stdout",
     "output_type": "stream",
     "text": [
      "Neurônios na camada oculta: 5\n",
      "Accuracy (%): 1.0 * 100\n",
      "MSE: 0.0\n",
      "Perda final: 0.2193524635532516\n",
      "\n",
      "Neurônios na camada oculta: 10\n",
      "Accuracy (%): 1.0 * 100\n",
      "MSE: 0.0\n",
      "Perda final: 0.2060917373468847\n",
      "\n",
      "Neurônios na camada oculta: 15\n",
      "Accuracy (%): 1.0 * 100\n",
      "MSE: 0.0\n",
      "Perda final: 0.1695460164407061\n",
      "\n"
     ]
    },
    {
     "data": {
      "image/png": "[encoded data removed]",
      "text/plain": [
       "<Figure size 1920x480 with 3 Axes>"
      ]
     },
     "metadata": {},
     "output_type": "display_data"
    }
   ],
   "source": [
    "fig, axes = plt.subplots(nrows=1, ncols=3, figsize=(6.4*3, 4.8))\n",
    "for i, params in enumerate(results['params']):\n",
    "    model = grid_search.best_estimator_.set_params(**params)\n",
    "    model.fit(X_train, y_train)\n",
    "    print(f'Neurônios na camada oculta: {params[\"hidden_layer_sizes\"]}')\n",
    "    print(f'Accuracy (%): {accuracy_score(y_test, model.predict(X_test))} * 100')\n",
    "    print(f'MSE: {mean_squared_error(y_test, model.predict(X_test))}')\n",
    "    print(f'Perda final: {model.loss_}\\n')\n",
    "    axes[i].plot(model.loss_curve_)\n",
    "    axes[i].set_title(f'Neurônios na camada oculta: {params[\"hidden_layer_sizes\"]}')\n",
    "    axes[i].set_xlabel('Épocas')\n",
    "    axes[i].set_ylabel('Perda')\n",
    "    sns.despine()\n",
    "plt.suptitle('Curvas de Perda');"
   ]
  }
 ],
 "metadata": {
  "kernelspec": {
   "display_name": ".venv",
   "language": "python",
   "name": "python3"
  },
  "language_info": {
   "codemirror_mode": {
    "name": "ipython",
    "version": 3
   },
   "file_extension": ".py",
   "mimetype": "text/x-python",
   "name": "python",
   "nbconvert_exporter": "python",
   "pygments_lexer": "ipython3",
   "version": "3.10.11"
  }
 },
 "nbformat": 4,
 "nbformat_minor": 2
}
